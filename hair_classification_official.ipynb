{
  "nbformat": 4,
  "nbformat_minor": 0,
  "metadata": {
    "colab": {
      "name": "hair_classification_official",
      "provenance": [],
      "collapsed_sections": [],
      "authorship_tag": "ABX9TyOGEVRGylE4LixcpFNx49l/"
    },
    "kernelspec": {
      "display_name": "Python 3",
      "name": "python3"
    },
    "language_info": {
      "name": "python"
    },
    "accelerator": "GPU"
  },
  "cells": [
    {
      "cell_type": "code",
      "metadata": {
        "colab": {
          "base_uri": "https://localhost:8080/"
        },
        "id": "o2TtXPwL9DAB",
        "outputId": "dbe69198-876e-459f-f2cf-0b412028e772"
      },
      "source": [
        "from google.colab import drive\n",
        "drive.mount('/content/gdrive')\n",
        "\n",
        "import os\n",
        "\n",
        "print(os.listdir())"
      ],
      "execution_count": 44,
      "outputs": [
        {
          "output_type": "stream",
          "name": "stdout",
          "text": [
            "Drive already mounted at /content/gdrive; to attempt to forcibly remount, call drive.mount(\"/content/gdrive\", force_remount=True).\n",
            "['.config', 'gdrive', 'sample_data']\n"
          ]
        }
      ]
    },
    {
      "cell_type": "code",
      "metadata": {
        "id": "M5Y2nCgWNW39",
        "colab": {
          "base_uri": "https://localhost:8080/"
        },
        "outputId": "5c6599b4-432e-4991-ae97-b5dda0b5b822"
      },
      "source": [
        "import numpy as np\n",
        "import matplotlib\n",
        "from google.colab import drive\n",
        "drive.mount('/content/gdrive')\n",
        "from sklearn import ensemble\n",
        "from sklearn.feature_selection import SelectFromModel\n",
        "from os import listdir\n",
        "from os.path import isfile, join\n",
        "from skimage.io import imread\n",
        "from skimage.color import rgb2grey\n",
        "from skimage.transform import resize\n",
        "from sklearn.utils import shuffle\n",
        "from skimage.feature import hog"
      ],
      "execution_count": 45,
      "outputs": [
        {
          "output_type": "stream",
          "name": "stdout",
          "text": [
            "Drive already mounted at /content/gdrive; to attempt to forcibly remount, call drive.mount(\"/content/gdrive\", force_remount=True).\n"
          ]
        }
      ]
    },
    {
      "cell_type": "code",
      "metadata": {
        "id": "-m2z4EQKtw7u"
      },
      "source": [
        "#access main dir\n",
        "patch_dir = '/content/gdrive/MyDrive/Patch1k'\n",
        "# hair_dir = '/content/gdrive/MyDrive/Patch1k/Hair'\n",
        "# nonhair_dir = '/content/gdrive/MyDrive/Patch1k/NonHair'\n",
        "\n",
        "#access path for hair and nonhair\n",
        "hair_non_hair = [join(patch_dir, 'Hair' ),join(patch_dir, 'NonHair')]\n",
        "# hair_non_hair = [join(patch_dir, hair_dir ),join(patch_dir, nonhair_dir)]\n",
        "#initialise list of paths\n",
        "train_images_paths = []\n",
        "test_images_paths = []\n",
        "train_labels = []\n",
        "test_labels = []\n",
        "for i, dir in enumerate(hair_non_hair):\n",
        "  #get paths to test and train path within each hair and nonhair dirs\n",
        "  test_dir = join(dir, 'Testing')\n",
        "  train_dir = join(dir, 'Training')\n",
        "  # test_dir = '/content/gdrive/MyDrive/Patch1k/Hair/Testing'\n",
        "  # train_dir = '/content/gdrive/MyDrive/Patch1k/Hair/Training'\n",
        "  #loop style taken from stackoverflow https://stackoverflow.com/questions/3207219/how-do-i-list-all-files-of-a-directory\n",
        "  train_images_paths += [join(train_dir, f) for f in listdir(train_dir) if isfile(join(train_dir, f))]\n",
        "  test_images_paths += [join(test_dir, f) for f in listdir(test_dir) if isfile(join(test_dir, f))]\n",
        "  #assign label to paths\n",
        "  train_labels += [i]*len(listdir(train_dir))\n",
        "  test_labels += [i]*len(listdir(test_dir))\n",
        "  # print(train_images_paths[0])\n",
        "\n",
        "\n",
        "\n"
      ],
      "execution_count": 47,
      "outputs": []
    },
    {
      "cell_type": "code",
      "metadata": {
        "id": "xIs5Bsf3ELH-"
      },
      "source": [
        "def paths_to_images(image_paths):\n",
        "  \"\"\"\n",
        "  This function converts paths to images and returns a stack of images\n",
        "  \"\"\"\n",
        "  #initialise stack of images with each image just being 227x227 zeros\n",
        "  images = np.zeros((len(image_paths),227,227))\n",
        "  #looping through list of paths and converting to list of images\n",
        "  for i, path in enumerate(image_paths):\n",
        "        image = imread(path)\n",
        "        #if image in colour tranform into black and white\n",
        "        if len(image.shape) == 3:\n",
        "            image = rgb2grey(image)\n",
        "        images[i,:,:] = image\n",
        "  return images"
      ],
      "execution_count": 48,
      "outputs": []
    },
    {
      "cell_type": "code",
      "metadata": {
        "id": "aAkt7ZO3dVv7"
      },
      "source": [
        "# #images in own arrays from files\n",
        "# # stack of train images\n",
        "# train_images = paths_to_images(train_images_paths)\n",
        "# #stack of test images\n",
        "# test_images = paths_to_images(test_images_paths)\n",
        "\n",
        "# # (train_X, train_y), (test_X, test_y) = mnist.load_data()\n",
        "\n",
        "# #save image patches and labels for easier access\n",
        "# np.save('/content/gdrive/MyDrive/train_images_patch',train_images)\n",
        "# np.save('/content/gdrive/MyDrive/test_images_patch',test_images)\n",
        "# np.save('/content/gdrive/MyDrive/train_labels_patch', train_labels)\n",
        "# np.save('/content/gdrive/MyDrive/test_labels_patch', test_labels)\n",
        "\n"
      ],
      "execution_count": 49,
      "outputs": []
    },
    {
      "cell_type": "code",
      "metadata": {
        "id": "UtADyVGReUE_"
      },
      "source": [
        "#load saved image patches and labels and shuffle so not memorised\n",
        "\n",
        "train_images = np.load('/content/gdrive/MyDrive/train_images_patch.npy')\n",
        "train_labels = np.load('/content/gdrive/MyDrive/train_labels_patch.npy')\n",
        "train_images, train_labels = shuffle(train_images, train_labels)\n",
        "\n",
        "test_images = np.load('/content/gdrive/MyDrive/test_images_patch.npy')\n",
        "test_labels = np.load('/content/gdrive/MyDrive/test_labels_patch.npy')\n",
        "test_images, test_labels = shuffle(test_images, test_labels)"
      ],
      "execution_count": 50,
      "outputs": []
    },
    {
      "cell_type": "code",
      "metadata": {
        "id": "TGXuK0LYfWKR"
      },
      "source": [
        "#Get tiny feats\n",
        "def get_tiny_feats(images):\n",
        "  \"\"\"\n",
        "  This function downsamples images and stacks them\n",
        "  \"\"\"\n",
        "  #initialise stack of images with each image just being 16x16 zeros\n",
        "  tiny_images = np.zeros((len(images),16,16))\n",
        "  #looping through list of paths and converting to list of images\n",
        "  for i, image in enumerate(images):        \n",
        "        resized_image = resize(image, (16,16), anti_aliasing=True)\n",
        "        tiny_images[i,:,:] = resized_image\n",
        "  return tiny_images\n"
      ],
      "execution_count": 51,
      "outputs": []
    },
    {
      "cell_type": "code",
      "source": [
        "#get tiny feats\n",
        "tiny_train_feats = get_tiny_feats(train_images)\n",
        "tiny_test_feats = get_tiny_feats(test_images)\n",
        "\n",
        "\n",
        "tiny_train_feats = np.reshape(tiny_train_feats, (train_images.shape[0],-1))\n",
        "tiny_test_feats = np.reshape(tiny_test_feats, (test_images.shape[0],-1))"
      ],
      "metadata": {
        "id": "-PDGa2QMEK2k"
      },
      "execution_count": 61,
      "outputs": []
    },
    {
      "cell_type": "code",
      "source": [
        "from sklearn.svm import SVC\n",
        "svm = SVC()\n",
        "svm.fit(tiny_train_feats, train_labels)\n",
        "svm.score(tiny_test_feats, test_labels)"
      ],
      "metadata": {
        "colab": {
          "base_uri": "https://localhost:8080/"
        },
        "id": "Bz0vfZeQGhba",
        "outputId": "2fad2368-0e9c-4c07-b625-8e9327da8b64"
      },
      "execution_count": 68,
      "outputs": [
        {
          "output_type": "execute_result",
          "data": {
            "text/plain": [
              "0.8476190476190476"
            ]
          },
          "metadata": {},
          "execution_count": 68
        }
      ]
    },
    {
      "cell_type": "code",
      "source": [
        "from sklearn.neighbors import KNeighborsClassifier\n",
        "knn = KNeighborsClassifier()\n",
        "knn.fit(tiny_train_feats, train_labels)\n",
        "knn.score(tiny_test_feats, test_labels)"
      ],
      "metadata": {
        "colab": {
          "base_uri": "https://localhost:8080/"
        },
        "id": "Ew7_DtGdtp60",
        "outputId": "df2f13ba-3045-41dd-ae69-2b43bd5c1202"
      },
      "execution_count": 62,
      "outputs": [
        {
          "output_type": "execute_result",
          "data": {
            "text/plain": [
              "0.7833333333333333"
            ]
          },
          "metadata": {},
          "execution_count": 62
        }
      ]
    },
    {
      "cell_type": "code",
      "source": [
        "import matplotlib.pyplot as plt\n",
        "k_range = range(1, 20)\n",
        "scores = []\n",
        "for k in k_range:\n",
        "    knn = KNeighborsClassifier(n_neighbors = k)\n",
        "    knn.fit(tiny_train_feats, train_labels)\n",
        "    scores.append(knn.score(tiny_test_feats, test_labels))\n",
        "plt.figure()\n",
        "plt.xlabel('k')\n",
        "plt.ylabel('accuracy')\n",
        "plt.scatter(k_range, scores)\n",
        "plt.xticks([0,5,10,15,20])"
      ],
      "metadata": {
        "colab": {
          "base_uri": "https://localhost:8080/",
          "height": 387
        },
        "id": "55Y2sGAjyV0G",
        "outputId": "94c75802-8032-4c88-d904-a4d471c762ea"
      },
      "execution_count": 63,
      "outputs": [
        {
          "output_type": "execute_result",
          "data": {
            "text/plain": [
              "([<matplotlib.axis.XTick at 0x7fbdef291390>,\n",
              "  <matplotlib.axis.XTick at 0x7fbdef2914d0>,\n",
              "  <matplotlib.axis.XTick at 0x7fbdef1dfc50>,\n",
              "  <matplotlib.axis.XTick at 0x7fbdef1a6650>,\n",
              "  <matplotlib.axis.XTick at 0x7fbdef1a6b90>],\n",
              " <a list of 5 Text major ticklabel objects>)"
            ]
          },
          "metadata": {},
          "execution_count": 63
        },
        {
          "output_type": "display_data",
          "data": {
            "text/plain": [
              "<Figure size 432x288 with 1 Axes>"
            ],
            "image/png": "[encoded data removed]"
          },
          "metadata": {
            "needs_background": "light"
          }
        }
      ]
    },
    {
      "cell_type": "code",
      "metadata": {
        "id": "BMgh2nWmmsQa"
      },
      "source": [
        "#Get hog feats\n",
        "def get_hog_feats(images):\n",
        "  \"\"\"\n",
        "  This function creates hog descriptors of the patches\n",
        "  \"\"\"\n",
        "  z=2\n",
        "  y=5\n",
        "  descriptors_stack = []\n",
        "  for i, image in enumerate(images):\n",
        "    hog_descriptor = hog(image,pixels_per_cell=(y,y), cells_per_block=(z,z), feature_vector=True )\n",
        "    #this makes it 2d \n",
        "    hog_descriptor.reshape((-1,len(hog_descriptor)))\n",
        "    descriptors_stack.append(hog_descriptor)\n",
        "  return descriptors_stack\n",
        "\n"
      ],
      "execution_count": 55,
      "outputs": []
    },
    {
      "cell_type": "code",
      "source": [
        "#get hog feats\n",
        "hog_train_feats = get_hog_feats(train_images)\n",
        "hog_test_feats = get_hog_feats(test_images)\n",
        "\n",
        "hog_train_feats = np.reshape(hog_train_feats, (train_images.shape[0],-1))\n",
        "hog_test_feats = np.reshape(hog_test_feats, (test_images.shape[0],-1))\n"
      ],
      "metadata": {
        "id": "l_ses5TP1v_s"
      },
      "execution_count": 57,
      "outputs": []
    },
    {
      "cell_type": "code",
      "source": [
        "from sklearn.svm import SVC\n",
        "svm = SVC()\n",
        "svm.fit(hog_train_feats, train_labels)\n",
        "svm.score(hog_test_feats, test_labels)"
      ],
      "metadata": {
        "colab": {
          "base_uri": "https://localhost:8080/"
        },
        "id": "6ujCVbhzE59H",
        "outputId": "1faddcf2-537f-4564-9a8c-6686c233c4e0"
      },
      "execution_count": 66,
      "outputs": [
        {
          "output_type": "execute_result",
          "data": {
            "text/plain": [
              "0.8690476190476191"
            ]
          },
          "metadata": {},
          "execution_count": 66
        }
      ]
    },
    {
      "cell_type": "code",
      "source": [
        "from sklearn.neighbors import KNeighborsClassifier\n",
        "knn = KNeighborsClassifier()\n",
        "knn.fit(hog_train_feats, train_labels)\n",
        "knn.score(hog_test_feats, test_labels)"
      ],
      "metadata": {
        "colab": {
          "base_uri": "https://localhost:8080/"
        },
        "id": "aBt2bMeO19Js",
        "outputId": "03789e6c-c3b2-4257-c256-27a0d4c85f3e"
      },
      "execution_count": 58,
      "outputs": [
        {
          "output_type": "execute_result",
          "data": {
            "text/plain": [
              "0.7261904761904762"
            ]
          },
          "metadata": {},
          "execution_count": 58
        }
      ]
    },
    {
      "cell_type": "code",
      "source": [
        "import matplotlib.pyplot as plt\n",
        "k_range = range(1, 20)\n",
        "scores = []\n",
        "for k in k_range:\n",
        "    knn = KNeighborsClassifier(n_neighbors = k)\n",
        "    knn.fit(hog_train_feats, train_labels)\n",
        "    scores.append(knn.score(hog_test_feats, test_labels))\n",
        "plt.figure()\n",
        "plt.xlabel('k')\n",
        "plt.ylabel('accuracy')\n",
        "plt.scatter(k_range, scores)\n",
        "plt.xticks([0,5,10,15,20])"
      ],
      "metadata": {
        "colab": {
          "base_uri": "https://localhost:8080/",
          "height": 387
        },
        "outputId": "4732282a-307b-4fe8-9c26-16e1c6d8e941",
        "id": "jR5pKpNc2iX2"
      },
      "execution_count": 67,
      "outputs": [
        {
          "output_type": "execute_result",
          "data": {
            "text/plain": [
              "([<matplotlib.axis.XTick at 0x7fbdef1484d0>,\n",
              "  <matplotlib.axis.XTick at 0x7fbdef148a50>,\n",
              "  <matplotlib.axis.XTick at 0x7fbdef13f950>,\n",
              "  <matplotlib.axis.XTick at 0x7fbdef0f9e10>,\n",
              "  <matplotlib.axis.XTick at 0x7fbdef103590>],\n",
              " <a list of 5 Text major ticklabel objects>)"
            ]
          },
          "metadata": {},
          "execution_count": 67
        },
        {
          "output_type": "display_data",
          "data": {
            "text/plain": [
              "<Figure size 432x288 with 1 Axes>"
            ],
            "image/png": "[encoded data removed]"
          },
          "metadata": {
            "needs_background": "light"
          }
        }
      ]
    }
  ]
}